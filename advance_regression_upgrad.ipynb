{
  "nbformat": 4,
  "nbformat_minor": 0,
  "metadata": {
    "colab": {
      "name": "advance_regression_upgrad.ipynb",
      "provenance": [],
      "authorship_tag": "ABX9TyMs8fiyF5BXqospBdgthl8D",
      "include_colab_link": true
    },
    "kernelspec": {
      "name": "python3",
      "display_name": "Python 3"
    }
  },
  "cells": [
    {
      "cell_type": "markdown",
      "metadata": {
        "id": "view-in-github",
        "colab_type": "text"
      },
      "source": [
        "<a href=\"https://colab.research.google.com/github/vishwa83/D3_visualizations/blob/master/advance_regression_upgrad.ipynb\" target=\"_parent\"><img src=\"https://colab.research.google.com/assets/colab-badge.svg\" alt=\"Open In Colab\"/></a>"
      ]
    },
    {
      "cell_type": "code",
      "metadata": {
        "colab": {
          "base_uri": "https://localhost:8080/"
        },
        "id": "Eby01nqCzA0X",
        "outputId": "fb527f21-f839-40a1-a0ab-17b6f0cb5dcb"
      },
      "source": [
        "#Import necessary modules to complete model processing\r\n",
        "\r\n",
        "from sklearn.model_selection import train_test_split, KFold, GridSearchCV\r\n",
        "from sklearn.metrics import accuracy_score\r\n",
        "from sklearn.impute import SimpleImputer, KNNImputer\r\n",
        "from sklearn.compose  import ColumnTransformer, make_column_selector, make_column_transformer\r\n",
        "from sklearn.preprocessing import OneHotEncoder, RobustScaler, MinMaxScaler\r\n",
        "from sklearn.pipeline import Pipeline, make_pipeline\r\n",
        "from sklearn.linear_model import LinearRegression, Ridge, Lasso\r\n",
        "import matplotlib.pyplot as plt\r\n",
        "import seaborn as sns\r\n",
        "import statsmodels.api as sm\r\n",
        "from sklearn.metrics import r2_score\r\n",
        "from sklearn.ensemble import RandomForestRegressor\r\n",
        "from sklearn.feature_selection import RFE\r\n",
        "from sklearn.feature_selection import SelectKBest, chi2"
      ],
      "execution_count": 2,
      "outputs": [
        {
          "output_type": "stream",
          "text": [
            "/usr/local/lib/python3.7/dist-packages/statsmodels/tools/_testing.py:19: FutureWarning: pandas.util.testing is deprecated. Use the functions in the public API at pandas.testing instead.\n",
            "  import pandas.util.testing as tm\n"
          ],
          "name": "stderr"
        }
      ]
    },
    {
      "cell_type": "code",
      "metadata": {
        "colab": {
          "resources": {
            "http://localhost:8080/nbextensions/google.colab/files.js": {
              "data": "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",
              "ok": true,
              "headers": [
                [
                  "content-type",
                  "application/javascript"
                ]
              ],
              "status": 200,
              "status_text": ""
            }
          },
          "base_uri": "https://localhost:8080/",
          "height": 73
        },
        "id": "5M1JUEe5zA77",
        "outputId": "8fa70800-fa9b-48ef-f45e-9d2f0737df90"
      },
      "source": [
        "from google.colab import files\r\n",
        "upload = files.upload()\r\n",
        "\r\n",
        "# Import raw data\r\n",
        "\r\n",
        "import pandas as pd\r\n",
        "data = pd.read_csv('train.csv')"
      ],
      "execution_count": 3,
      "outputs": [
        {
          "output_type": "display_data",
          "data": {
            "text/html": [
              "\n",
              "     <input type=\"file\" id=\"files-c9ce93f0-ae32-41dd-89dd-0867b52f0356\" name=\"files[]\" multiple disabled\n",
              "        style=\"border:none\" />\n",
              "     <output id=\"result-c9ce93f0-ae32-41dd-89dd-0867b52f0356\">\n",
              "      Upload widget is only available when the cell has been executed in the\n",
              "      current browser session. Please rerun this cell to enable.\n",
              "      </output>\n",
              "      <script src=\"/nbextensions/google.colab/files.js\"></script> "
            ],
            "text/plain": [
              "<IPython.core.display.HTML object>"
            ]
          },
          "metadata": {
            "tags": []
          }
        },
        {
          "output_type": "stream",
          "text": [
            "Saving train.csv to train.csv\n"
          ],
          "name": "stdout"
        }
      ]
    },
    {
      "cell_type": "code",
      "metadata": {
        "id": "lYGnm4PMzBBO"
      },
      "source": [
        "# sns.pairplot(data)\r\n",
        "# plt.show()"
      ],
      "execution_count": null,
      "outputs": []
    },
    {
      "cell_type": "code",
      "metadata": {
        "id": "Giwv7LVOzBF3"
      },
      "source": [
        "# Declare features and independant variables\r\n",
        "X = data.drop(['SalePrice'],1)\r\n",
        "y = data['SalePrice']"
      ],
      "execution_count": 4,
      "outputs": []
    },
    {
      "cell_type": "code",
      "metadata": {
        "colab": {
          "base_uri": "https://localhost:8080/"
        },
        "id": "6rJX1t5ezBMV",
        "outputId": "f49735b1-0182-497f-cc60-8830bf768b49"
      },
      "source": [
        "#Split the dataset into train and test sets\r\n",
        "\r\n",
        "X_train, X_test, y_train, y_test = train_test_split(X,y, test_size=0.3,random_state=1023)\r\n",
        "num_cols = X_train.select_dtypes(exclude='object')\r\n",
        "\r\n",
        "#Use pipeline function to create transformers for numeric and categorical variables\r\n",
        "\r\n",
        "num_transform = Pipeline([('num_imputer', SimpleImputer(strategy='median', add_indicator=False)),\r\n",
        "                         ('Scalar',MinMaxScaler())])\r\n",
        "\r\n",
        "import numpy as np\r\n",
        "cat_cols = X_train.select_dtypes(include='object')\r\n",
        "cat_transform = Pipeline([('cat_imputer',SimpleImputer(strategy = 'constant', missing_values=np.nan,fill_value='missing', add_indicator = False)),\r\n",
        "                          ('ohe',OneHotEncoder(handle_unknown='ignore'))])\r\n",
        "\r\n",
        "# Chain numeric and categorical transformers using columntransformer\r\n",
        "\r\n",
        "ct = ColumnTransformer([('num_transform',num_transform,num_cols.columns),\r\n",
        "                        ('cat_transform',cat_transform,cat_cols.columns)], remainder='passthrough')\r\n",
        "\r\n",
        "\r\n",
        "# Transforming train set using column transformer\r\n",
        "\r\n",
        "xt = ct.fit_transform(X_train)\r\n",
        "import scipy.sparse\r\n",
        "mat = scipy.sparse.eye(3)\r\n",
        "transformed_train_data = pd.DataFrame.sparse.from_spmatrix(xt)\r\n",
        "transformed_train_data.shape"
      ],
      "execution_count": 5,
      "outputs": [
        {
          "output_type": "execute_result",
          "data": {
            "text/plain": [
              "(1022, 301)"
            ]
          },
          "metadata": {
            "tags": []
          },
          "execution_count": 5
        }
      ]
    },
    {
      "cell_type": "code",
      "metadata": {
        "id": "v-DX1F-caxL1"
      },
      "source": [
        "#transformed_train_data.head()\r\n",
        "feature_name = ['Id', 'MSSubClass', 'LotFrontage', 'LotArea', 'OverallQual',\r\n",
        "         'OverallCond', 'YearBuilt', 'YearRemodAdd', 'MasVnrArea', 'BsmtFinSF1',\r\n",
        "         'BsmtFinSF2', 'BsmtUnfSF', 'TotalBsmtSF', '1stFlrSF', '2ndFlrSF',\r\n",
        "         'LowQualFinSF', 'GrLivArea', 'BsmtFullBath', 'BsmtHalfBath', 'FullBath',\r\n",
        "         'HalfBath', 'BedroomAbvGr', 'KitchenAbvGr', 'TotRmsAbvGrd',\r\n",
        "         'Fireplaces', 'GarageYrBlt', 'GarageCars', 'GarageArea', 'WoodDeckSF',\r\n",
        "         'OpenPorchSF', 'EnclosedPorch', '3SsnPorch', 'ScreenPorch', 'PoolArea',\r\n",
        "         'MiscVal', 'MoSold', 'YrSold','MSZoning_C (all)', 'MSZoning_FV', 'MSZoning_RH', 'MSZoning_RL',\r\n",
        "       'MSZoning_RM', 'Street_Grvl', 'Street_Pave', 'Alley_Grvl',\r\n",
        "       'Alley_Pave', 'Alley_missing', 'LotShape_IR1', 'LotShape_IR2',\r\n",
        "       'LotShape_IR3', 'LotShape_Reg', 'LandContour_Bnk',\r\n",
        "       'LandContour_HLS', 'LandContour_Low', 'LandContour_Lvl',\r\n",
        "       'Utilities_AllPub', 'LotConfig_Corner', 'LotConfig_CulDSac',\r\n",
        "       'LotConfig_FR2', 'LotConfig_FR3', 'LotConfig_Inside',\r\n",
        "       'LandSlope_Gtl', 'LandSlope_Mod', 'LandSlope_Sev',\r\n",
        "       'Neighborhood_Blmngtn', 'Neighborhood_Blueste',\r\n",
        "       'Neighborhood_BrDale', 'Neighborhood_BrkSide',\r\n",
        "       'Neighborhood_ClearCr', 'Neighborhood_CollgCr',\r\n",
        "       'Neighborhood_Crawfor', 'Neighborhood_Edwards',\r\n",
        "       'Neighborhood_Gilbert', 'Neighborhood_IDOTRR',\r\n",
        "       'Neighborhood_MeadowV', 'Neighborhood_Mitchel',\r\n",
        "       'Neighborhood_NAmes', 'Neighborhood_NPkVill',\r\n",
        "       'Neighborhood_NWAmes', 'Neighborhood_NoRidge',\r\n",
        "       'Neighborhood_NridgHt', 'Neighborhood_OldTown',\r\n",
        "       'Neighborhood_SWISU', 'Neighborhood_Sawyer',\r\n",
        "       'Neighborhood_SawyerW', 'Neighborhood_Somerst',\r\n",
        "       'Neighborhood_StoneBr', 'Neighborhood_Timber',\r\n",
        "       'Neighborhood_Veenker', 'Condition1_Artery', 'Condition1_Feedr',\r\n",
        "       'Condition1_Norm', 'Condition1_PosA', 'Condition1_PosN',\r\n",
        "       'Condition1_RRAe', 'Condition1_RRAn', 'Condition1_RRNe',\r\n",
        "       'Condition1_RRNn', 'Condition2_Artery', 'Condition2_Feedr',\r\n",
        "       'Condition2_Norm', 'Condition2_PosA', 'Condition2_PosN',\r\n",
        "       'Condition2_RRAe', 'Condition2_RRAn', 'Condition2_RRNn',\r\n",
        "       'BldgType_1Fam', 'BldgType_2fmCon', 'BldgType_Duplex',\r\n",
        "       'BldgType_Twnhs', 'BldgType_TwnhsE', 'HouseStyle_1.5Fin',\r\n",
        "       'HouseStyle_1.5Unf', 'HouseStyle_1Story', 'HouseStyle_2.5Fin',\r\n",
        "       'HouseStyle_2.5Unf', 'HouseStyle_2Story', 'HouseStyle_SFoyer',\r\n",
        "       'HouseStyle_SLvl', 'RoofStyle_Flat', 'RoofStyle_Gable',\r\n",
        "       'RoofStyle_Gambrel', 'RoofStyle_Hip', 'RoofStyle_Mansard',\r\n",
        "       'RoofStyle_Shed', 'RoofMatl_ClyTile', 'RoofMatl_CompShg',\r\n",
        "       'RoofMatl_Membran', 'RoofMatl_Metal', 'RoofMatl_Roll',\r\n",
        "       'RoofMatl_Tar&Grv', 'RoofMatl_WdShake', 'RoofMatl_WdShngl',\r\n",
        "       'Exterior1st_AsbShng', 'Exterior1st_AsphShn',\r\n",
        "       'Exterior1st_BrkComm', 'Exterior1st_BrkFace', 'Exterior1st_CBlock',\r\n",
        "       'Exterior1st_CemntBd', 'Exterior1st_HdBoard',\r\n",
        "       'Exterior1st_ImStucc', 'Exterior1st_MetalSd',\r\n",
        "       'Exterior1st_Plywood', 'Exterior1st_Stone', 'Exterior1st_Stucco',\r\n",
        "       'Exterior1st_VinylSd', 'Exterior1st_Wd Sdng',\r\n",
        "       'Exterior1st_WdShing', 'Exterior2nd_AsbShng',\r\n",
        "       'Exterior2nd_AsphShn', 'Exterior2nd_Brk Cmn',\r\n",
        "       'Exterior2nd_BrkFace', 'Exterior2nd_CBlock', 'Exterior2nd_CmentBd',\r\n",
        "       'Exterior2nd_HdBoard', 'Exterior2nd_ImStucc',\r\n",
        "       'Exterior2nd_MetalSd', 'Exterior2nd_Other', 'Exterior2nd_Plywood',\r\n",
        "       'Exterior2nd_Stone', 'Exterior2nd_Stucco', 'Exterior2nd_VinylSd',\r\n",
        "       'Exterior2nd_Wd Sdng', 'Exterior2nd_Wd Shng', 'MasVnrType_BrkCmn',\r\n",
        "       'MasVnrType_BrkFace', 'MasVnrType_None', 'MasVnrType_Stone',\r\n",
        "       'MasVnrType_missing', 'ExterQual_Ex', 'ExterQual_Fa',\r\n",
        "       'ExterQual_Gd', 'ExterQual_TA', 'ExterCond_Ex', 'ExterCond_Fa',\r\n",
        "       'ExterCond_Gd', 'ExterCond_Po', 'ExterCond_TA',\r\n",
        "       'Foundation_BrkTil', 'Foundation_CBlock', 'Foundation_PConc',\r\n",
        "       'Foundation_Slab', 'Foundation_Stone', 'Foundation_Wood',\r\n",
        "       'BsmtQual_Ex', 'BsmtQual_Fa', 'BsmtQual_Gd', 'BsmtQual_TA',\r\n",
        "       'BsmtQual_missing', 'BsmtCond_Fa', 'BsmtCond_Gd', 'BsmtCond_Po',\r\n",
        "       'BsmtCond_TA', 'BsmtCond_missing', 'BsmtExposure_Av',\r\n",
        "       'BsmtExposure_Gd', 'BsmtExposure_Mn', 'BsmtExposure_No',\r\n",
        "       'BsmtExposure_missing', 'BsmtFinType1_ALQ', 'BsmtFinType1_BLQ',\r\n",
        "       'BsmtFinType1_GLQ', 'BsmtFinType1_LwQ', 'BsmtFinType1_Rec',\r\n",
        "       'BsmtFinType1_Unf', 'BsmtFinType1_missing', 'BsmtFinType2_ALQ',\r\n",
        "       'BsmtFinType2_BLQ', 'BsmtFinType2_GLQ', 'BsmtFinType2_LwQ',\r\n",
        "       'BsmtFinType2_Rec', 'BsmtFinType2_Unf', 'BsmtFinType2_missing',\r\n",
        "       'Heating_GasA', 'Heating_GasW', 'Heating_Grav', 'Heating_OthW',\r\n",
        "       'Heating_Wall', 'HeatingQC_Ex', 'HeatingQC_Fa', 'HeatingQC_Gd',\r\n",
        "       'HeatingQC_TA', 'CentralAir_N', 'CentralAir_Y', 'Electrical_FuseA',\r\n",
        "       'Electrical_FuseF', 'Electrical_FuseP', 'Electrical_Mix',\r\n",
        "       'Electrical_SBrkr', 'Electrical_missing', 'KitchenQual_Ex',\r\n",
        "       'KitchenQual_Fa', 'KitchenQual_Gd', 'KitchenQual_TA',\r\n",
        "       'Functional_Maj1', 'Functional_Maj2', 'Functional_Min1',\r\n",
        "       'Functional_Min2', 'Functional_Mod', 'Functional_Sev',\r\n",
        "       'Functional_Typ', 'FireplaceQu_Ex', 'FireplaceQu_Fa',\r\n",
        "       'FireplaceQu_Gd', 'FireplaceQu_Po', 'FireplaceQu_TA',\r\n",
        "       'FireplaceQu_missing', 'GarageType_2Types', 'GarageType_Attchd',\r\n",
        "       'GarageType_Basment', 'GarageType_BuiltIn', 'GarageType_CarPort',\r\n",
        "       'GarageType_Detchd', 'GarageType_missing', 'GarageFinish_Fin',\r\n",
        "       'GarageFinish_RFn', 'GarageFinish_Unf', 'GarageFinish_missing',\r\n",
        "       'GarageQual_Ex', 'GarageQual_Fa', 'GarageQual_Gd', 'GarageQual_Po',\r\n",
        "       'GarageQual_TA', 'GarageQual_missing', 'GarageCond_Ex',\r\n",
        "       'GarageCond_Fa', 'GarageCond_Gd', 'GarageCond_Po', 'GarageCond_TA',\r\n",
        "       'GarageCond_missing', 'PavedDrive_N', 'PavedDrive_P',\r\n",
        "       'PavedDrive_Y', 'PoolQC_Fa', 'PoolQC_Gd', 'PoolQC_missing',\r\n",
        "       'Fence_GdPrv', 'Fence_GdWo', 'Fence_MnPrv', 'Fence_MnWw',\r\n",
        "       'Fence_missing', 'MiscFeature_Gar2', 'MiscFeature_Othr',\r\n",
        "       'MiscFeature_Shed', 'MiscFeature_TenC', 'MiscFeature_missing',\r\n",
        "       'SaleType_COD', 'SaleType_CWD', 'SaleType_Con', 'SaleType_ConLD',\r\n",
        "       'SaleType_ConLI', 'SaleType_ConLw', 'SaleType_New', 'SaleType_Oth',\r\n",
        "       'SaleType_WD', 'SaleCondition_Abnorml', 'SaleCondition_AdjLand',\r\n",
        "       'SaleCondition_Alloca', 'SaleCondition_Family',\r\n",
        "       'SaleCondition_Normal', 'SaleCondition_Partial']\r\n",
        "\r\n",
        "transformed_train_data.columns = feature_name"
      ],
      "execution_count": 6,
      "outputs": []
    },
    {
      "cell_type": "code",
      "metadata": {
        "id": "aAEzZVS7e5yR"
      },
      "source": [
        "# Considering Linear Regression as the first model to begin with\r\n",
        "# Using KFold Cross validation technique for better results\r\n",
        "\r\n",
        "folds = KFold(n_splits=5,shuffle=True,random_state=1234)\r\n",
        "params = {\r\n",
        "    'rfe__n_features_to_select':[100,200,250,275]       \r\n",
        "}\r\n",
        "rfe = RFE(estimator=LinearRegression())\r\n",
        "pipeline_final = Pipeline([('ct',ct),\r\n",
        "                           ('rfe',rfe),\r\n",
        "                           ('regressor', LinearRegression())])\r\n",
        "\r\n",
        "gs = GridSearchCV(estimator=pipeline_final,\r\n",
        "                  cv = folds,\r\n",
        "                  return_train_score = True,\r\n",
        "                  param_grid = params\r\n",
        "                  )\r\n"
      ],
      "execution_count": 14,
      "outputs": []
    },
    {
      "cell_type": "code",
      "metadata": {
        "id": "6vsoac8N9iHC"
      },
      "source": [
        "# Considering Linear Regression as the first model to begin with\r\n",
        "# Using KFold Cross validation technique for better results\r\n",
        "# Using TruncatedSVD for dimsionality reduction\r\n",
        "\r\n",
        "from sklearn.decomposition import PCA, NMF, TruncatedSVD\r\n",
        "from sklearn.metrics import make_scorer\r\n",
        "folds = KFold(n_splits=5,shuffle=True,random_state=1234)\r\n",
        "params = [{\r\n",
        "    'reduce_dim':[TruncatedSVD(n_iter=7)],\r\n",
        "    'reduce_dim__n_components':[50,60,70,100]    \r\n",
        "},\r\n",
        "{\r\n",
        "    'reduce_dim':[SelectKBest(chi2)],\r\n",
        " 'reduce_dim__k':[50,60,70,100] \r\n",
        " \r\n",
        "}]\r\n",
        "rfe = RFE(estimator=LinearRegression())\r\n",
        "pipeline_final = Pipeline([('ct',ct),\r\n",
        "                           ('reduce_dim','passthrough'),\r\n",
        "                           ('regressor', LinearRegression())])\r\n",
        "# reducer_labels = ['PCA', 'NMF', 'KBest(chi2)']\r\n",
        "gs = GridSearchCV(estimator=pipeline_final,\r\n",
        "                  cv = folds,\r\n",
        "                  return_train_score = True,\r\n",
        "                  param_grid = params\r\n",
        "                  )\r\n"
      ],
      "execution_count": 7,
      "outputs": []
    },
    {
      "cell_type": "code",
      "metadata": {
        "colab": {
          "base_uri": "https://localhost:8080/"
        },
        "id": "cMJl9wjrH1pm",
        "outputId": "6d309f68-df5e-4319-e5b1-6693f8247cdf"
      },
      "source": [
        "gs.fit(X_train,y_train)"
      ],
      "execution_count": 8,
      "outputs": [
        {
          "output_type": "execute_result",
          "data": {
            "text/plain": [
              "GridSearchCV(cv=KFold(n_splits=5, random_state=1234, shuffle=True),\n",
              "             error_score=nan,\n",
              "             estimator=Pipeline(memory=None,\n",
              "                                steps=[('ct',\n",
              "                                        ColumnTransformer(n_jobs=None,\n",
              "                                                          remainder='passthrough',\n",
              "                                                          sparse_threshold=0.3,\n",
              "                                                          transformer_weights=None,\n",
              "                                                          transformers=[('num_transform',\n",
              "                                                                         Pipeline(memory=None,\n",
              "                                                                                  steps=[('num_imputer',\n",
              "                                                                                          SimpleImputer(add_indicator=False,\n",
              "                                                                                                        copy=True,\n",
              "                                                                                                        fill_va...\n",
              "             param_grid=[{'reduce_dim': [TruncatedSVD(algorithm='randomized',\n",
              "                                                      n_components=100,\n",
              "                                                      n_iter=7,\n",
              "                                                      random_state=None,\n",
              "                                                      tol=0.0)],\n",
              "                          'reduce_dim__n_components': [50, 60, 70, 100]},\n",
              "                         {'reduce_dim': [SelectKBest(k=10,\n",
              "                                                     score_func=<function chi2 at 0x7f9019daf290>)],\n",
              "                          'reduce_dim__k': [50, 60, 70, 100]}],\n",
              "             pre_dispatch='2*n_jobs', refit=True, return_train_score=True,\n",
              "             scoring=None, verbose=0)"
            ]
          },
          "metadata": {
            "tags": []
          },
          "execution_count": 8
        }
      ]
    },
    {
      "cell_type": "code",
      "metadata": {
        "colab": {
          "base_uri": "https://localhost:8080/",
          "height": 1000
        },
        "id": "Run6ahzrpIhb",
        "outputId": "9d2e7724-f00f-4a06-d261-ede24789cc28"
      },
      "source": [
        "# Using co-efficients to identify feature importance of the model using Linear Regression as the estimator\r\n",
        "\r\n",
        "import matplotlib.pyplot as plt\r\n",
        "import seaborn\r\n",
        "#summarize feature importance\r\n",
        "featureImportanceLR = gs.best_estimator_[2].coef_\r\n",
        "#for i,v in enumerate(featureImportanceLR):\r\n",
        "#  print('Feature: %0d, Score: %5f' %(i,v))\r\n",
        "\r\n",
        "#plot feature importance\r\n",
        "plt.figure(figsize=(20,30))\r\n",
        "plt.bar([i for i in range(len(featureImportanceLR))], featureImportanceLR)\r\n",
        "plt.show()"
      ],
      "execution_count": 50,
      "outputs": [
        {
          "output_type": "display_data",
          "data": {
            "image/png": "[encoded data removed]",
            "text/plain": [
              "<Figure size 1440x2160 with 1 Axes>"
            ]
          },
          "metadata": {
            "tags": [],
            "needs_background": "light"
          }
        }
      ]
    },
    {
      "cell_type": "code",
      "metadata": {
        "colab": {
          "base_uri": "https://localhost:8080/"
        },
        "id": "QO5zqrkaHkQh",
        "outputId": "2747a302-a7b8-47dc-a489-9049c62641ed"
      },
      "source": [
        "print(\"r2 score for train set using linear Regression :{}\".format(gs.score(X_train,y_train)) + \"and r2 score for test set :{}\".format(gs.score(X_test,y_test)))\r\n",
        "print(\"Best parameters for the model using linear regression {}\".format(gs.best_params_))"
      ],
      "execution_count": 9,
      "outputs": [
        {
          "output_type": "stream",
          "text": [
            "r2 score for train set using linear Regression :0.8697564539016023and r2 score for test set :0.8062887224312079\n",
            "Best parameters for the model using linear regression {'reduce_dim': TruncatedSVD(algorithm='randomized', n_components=100, n_iter=7,\n",
            "             random_state=None, tol=0.0), 'reduce_dim__n_components': 100}\n"
          ],
          "name": "stdout"
        }
      ]
    },
    {
      "cell_type": "code",
      "metadata": {
        "id": "SqYrxijZYG5f"
      },
      "source": [
        "# Verifying Linear regression assumptions\r\n",
        "#!pip install statsmodels\r\n",
        "import statsmodels\r\n",
        "import statsmodels.api as sm\r\n",
        "import statsmodels.tsa.api as smt\r\n",
        "from statsmodels.stats.outliers_influence import variance_inflation_factor"
      ],
      "execution_count": 23,
      "outputs": []
    },
    {
      "cell_type": "code",
      "metadata": {
        "colab": {
          "base_uri": "https://localhost:8080/",
          "height": 387
        },
        "id": "TjmlVRxYZ3ku",
        "outputId": "0219aa30-303b-467a-994f-4a40620d51a7"
      },
      "source": [
        "# Residuals analysis for model based on Linear Regression\r\n",
        "\r\n",
        "pred = gs.predict(X_test)\r\n",
        "import seaborn as sns\r\n",
        "res = y_test - pred\r\n",
        "sns.displot(res,kind='kde')"
      ],
      "execution_count": 10,
      "outputs": [
        {
          "output_type": "execute_result",
          "data": {
            "text/plain": [
              "<seaborn.axisgrid.FacetGrid at 0x7f900f382710>"
            ]
          },
          "metadata": {
            "tags": []
          },
          "execution_count": 10
        },
        {
          "output_type": "display_data",
          "data": {
            "image/png": "[encoded data removed]",
            "text/plain": [
              "<Figure size 360x360 with 1 Axes>"
            ]
          },
          "metadata": {
            "tags": [],
            "needs_background": "light"
          }
        }
      ]
    },
    {
      "cell_type": "code",
      "metadata": {
        "id": "C8Wqd21dFSzr"
      },
      "source": [
        "# Regularization\r\n",
        "\r\n",
        "#Ridge\r\n",
        "from sklearn.linear_model import Ridge, Lasso\r\n",
        "folds = KFold(n_splits=5,shuffle=True,random_state=1234)\r\n",
        "params = {\r\n",
        "    'rfe__n_features_to_select':[100,200,250,275],\r\n",
        "    'regressor__alpha':[5,10,15,20,25,35,40]       \r\n",
        "}\r\n",
        "rfe = RFE(estimator=LinearRegression())\r\n",
        "pipeline_ridge = Pipeline([('ct',ct),\r\n",
        "                           ('rfe',rfe),\r\n",
        "                           ('regressor', Ridge())])\r\n",
        "\r\n",
        "gs_ridge = GridSearchCV(estimator=pipeline_ridge,\r\n",
        "                  cv = folds,\r\n",
        "                  return_train_score = True,\r\n",
        "                  param_grid = params\r\n",
        "                  )\r\n"
      ],
      "execution_count": 11,
      "outputs": []
    },
    {
      "cell_type": "code",
      "metadata": {
        "colab": {
          "base_uri": "https://localhost:8080/"
        },
        "id": "BMzmOhcCH4ES",
        "outputId": "842156d2-bb51-4418-fa6f-254ea9b44b67"
      },
      "source": [
        "gs_ridge.fit(X_train,y_train)"
      ],
      "execution_count": 12,
      "outputs": [
        {
          "output_type": "execute_result",
          "data": {
            "text/plain": [
              "GridSearchCV(cv=KFold(n_splits=5, random_state=1234, shuffle=True),\n",
              "             error_score=nan,\n",
              "             estimator=Pipeline(memory=None,\n",
              "                                steps=[('ct',\n",
              "                                        ColumnTransformer(n_jobs=None,\n",
              "                                                          remainder='passthrough',\n",
              "                                                          sparse_threshold=0.3,\n",
              "                                                          transformer_weights=None,\n",
              "                                                          transformers=[('num_transform',\n",
              "                                                                         Pipeline(memory=None,\n",
              "                                                                                  steps=[('num_imputer',\n",
              "                                                                                          SimpleImputer(add_indicator=False,\n",
              "                                                                                                        copy=True,\n",
              "                                                                                                        fill_va...\n",
              "                                       ('regressor',\n",
              "                                        Ridge(alpha=1.0, copy_X=True,\n",
              "                                              fit_intercept=True, max_iter=None,\n",
              "                                              normalize=False,\n",
              "                                              random_state=None, solver='auto',\n",
              "                                              tol=0.001))],\n",
              "                                verbose=False),\n",
              "             iid='deprecated', n_jobs=None,\n",
              "             param_grid={'regressor__alpha': [5, 10, 15, 20, 25, 35, 40],\n",
              "                         'rfe__n_features_to_select': [100, 200, 250, 275]},\n",
              "             pre_dispatch='2*n_jobs', refit=True, return_train_score=True,\n",
              "             scoring=None, verbose=0)"
            ]
          },
          "metadata": {
            "tags": []
          },
          "execution_count": 12
        }
      ]
    },
    {
      "cell_type": "code",
      "metadata": {
        "colab": {
          "base_uri": "https://localhost:8080/"
        },
        "id": "fxEfdHs05Pld",
        "outputId": "1cc9a5de-9a43-4cc7-eaf9-7116530e7692"
      },
      "source": [
        "gs_ridge_predict = gs_ridge.predict(X_test)\r\n",
        "gs_ridge.score(X_test,y_test)\r\n",
        "print(\"r2 score for train set using Ridge Regression :{}\".format(gs_ridge.score(X_train,y_train)) + \"and r2 score for test set :{}\".format(gs_ridge.score(X_test,y_test)))\r\n",
        "print(\"Best parameters for the model using Ridge regression {}\".format(gs_ridge.best_params_))"
      ],
      "execution_count": 13,
      "outputs": [
        {
          "output_type": "stream",
          "text": [
            "r2 score for train set using Ridge Regression :0.8985360799706467and r2 score for test set :0.8206272948724936\n",
            "Best parameters for the model using Ridge regression {'regressor__alpha': 10, 'rfe__n_features_to_select': 275}\n"
          ],
          "name": "stdout"
        }
      ]
    },
    {
      "cell_type": "code",
      "metadata": {
        "colab": {
          "base_uri": "https://localhost:8080/",
          "height": 387
        },
        "id": "BzFrfJF7a7W1",
        "outputId": "75f77638-c0b9-4c57-a773-0544beecbad1"
      },
      "source": [
        "# Residual Analysis for Ridge Regression\r\n",
        "ridge_pred = gs_ridge.predict(X_test)\r\n",
        "import seaborn as sns\r\n",
        "ridge_res = y_test - ridge_pred\r\n",
        "sns.displot(ridge_res,kind='kde')\r\n"
      ],
      "execution_count": 21,
      "outputs": [
        {
          "output_type": "execute_result",
          "data": {
            "text/plain": [
              "<seaborn.axisgrid.FacetGrid at 0x7f900e699790>"
            ]
          },
          "metadata": {
            "tags": []
          },
          "execution_count": 21
        },
        {
          "output_type": "display_data",
          "data": {
            "image/png": "[encoded data removed]",
            "text/plain": [
              "<Figure size 360x360 with 1 Axes>"
            ]
          },
          "metadata": {
            "tags": [],
            "needs_background": "light"
          }
        }
      ]
    },
    {
      "cell_type": "code",
      "metadata": {
        "id": "XXo75DHu81VY"
      },
      "source": [
        "# Lasso\r\n",
        "\r\n",
        "from sklearn.linear_model import Ridge, Lasso\r\n",
        "folds = KFold(n_splits=5,shuffle=True,random_state=1234)\r\n",
        "params = {\r\n",
        "    'rfe__n_features_to_select':[100,200,250,275,300],\r\n",
        "    'regressor__alpha':[5,10,15,20,25,35,40]       \r\n",
        "}\r\n",
        "rfe = RFE(estimator=LinearRegression())\r\n",
        "pipeline_lasso = Pipeline([('ct',ct),\r\n",
        "                           ('rfe',rfe),\r\n",
        "                           ('regressor', Lasso())])\r\n",
        "\r\n",
        "gs_lasso = GridSearchCV(estimator=pipeline_lasso,\r\n",
        "                  cv = folds,\r\n",
        "                  return_train_score = True,\r\n",
        "                  param_grid = params\r\n",
        "                  )\r\n"
      ],
      "execution_count": 16,
      "outputs": []
    },
    {
      "cell_type": "code",
      "metadata": {
        "colab": {
          "base_uri": "https://localhost:8080/"
        },
        "id": "FkqZxDBr81ZJ",
        "outputId": "3d6e619b-25b7-4791-a9bb-9ddb939206f8"
      },
      "source": [
        "gs_lasso.fit(X_train,y_train)"
      ],
      "execution_count": 17,
      "outputs": [
        {
          "output_type": "stream",
          "text": [
            "/usr/local/lib/python3.7/dist-packages/sklearn/linear_model/_coordinate_descent.py:460: ConvergenceWarning: Objective did not converge. You might want to increase the number of iterations. Duality gap: 542785991.1803589, tolerance: 481675924.17299867\n",
            "  max_iter, tol, rng, random, positive)\n",
            "/usr/local/lib/python3.7/dist-packages/sklearn/linear_model/_coordinate_descent.py:460: ConvergenceWarning: Objective did not converge. You might want to increase the number of iterations. Duality gap: 586506078.2164917, tolerance: 483515736.419676\n",
            "  max_iter, tol, rng, random, positive)\n"
          ],
          "name": "stderr"
        },
        {
          "output_type": "execute_result",
          "data": {
            "text/plain": [
              "GridSearchCV(cv=KFold(n_splits=5, random_state=1234, shuffle=True),\n",
              "             error_score=nan,\n",
              "             estimator=Pipeline(memory=None,\n",
              "                                steps=[('ct',\n",
              "                                        ColumnTransformer(n_jobs=None,\n",
              "                                                          remainder='passthrough',\n",
              "                                                          sparse_threshold=0.3,\n",
              "                                                          transformer_weights=None,\n",
              "                                                          transformers=[('num_transform',\n",
              "                                                                         Pipeline(memory=None,\n",
              "                                                                                  steps=[('num_imputer',\n",
              "                                                                                          SimpleImputer(add_indicator=False,\n",
              "                                                                                                        copy=True,\n",
              "                                                                                                        fill_va...\n",
              "                                              fit_intercept=True, max_iter=1000,\n",
              "                                              normalize=False, positive=False,\n",
              "                                              precompute=False,\n",
              "                                              random_state=None,\n",
              "                                              selection='cyclic', tol=0.0001,\n",
              "                                              warm_start=False))],\n",
              "                                verbose=False),\n",
              "             iid='deprecated', n_jobs=None,\n",
              "             param_grid={'regressor__alpha': [5, 10, 15, 20, 25, 35, 40],\n",
              "                         'rfe__n_features_to_select': [100, 200, 250, 275,\n",
              "                                                       300]},\n",
              "             pre_dispatch='2*n_jobs', refit=True, return_train_score=True,\n",
              "             scoring=None, verbose=0)"
            ]
          },
          "metadata": {
            "tags": []
          },
          "execution_count": 17
        }
      ]
    },
    {
      "cell_type": "code",
      "metadata": {
        "colab": {
          "base_uri": "https://localhost:8080/"
        },
        "id": "5T4eVLmN81cJ",
        "outputId": "2434646a-cf48-4297-c50d-9b6bb1fe0622"
      },
      "source": [
        "print(\"r2 score for train set using lasso Regression :{}\".format(gs_lasso.score(X_train,y_train)) + \"and r2 score for test set :{}\".format(gs_lasso.score(X_test,y_test)))\r\n",
        "print(\"Best parameters for the model using lasso regression {}\".format(gs_lasso.best_params_))\r\n",
        "\r\n"
      ],
      "execution_count": 18,
      "outputs": [
        {
          "output_type": "stream",
          "text": [
            "r2 score for train set using lasso Regression :0.9316929680382012and r2 score for test set :0.8602413722281625\n",
            "Best parameters for the model using lasso regression {'regressor__alpha': 40, 'rfe__n_features_to_select': 275}\n"
          ],
          "name": "stdout"
        }
      ]
    },
    {
      "cell_type": "code",
      "metadata": {
        "colab": {
          "base_uri": "https://localhost:8080/",
          "height": 362
        },
        "id": "nFYmgch681fr",
        "outputId": "0ccf2ef2-06f0-46be-ca13-5fc4c18614a3"
      },
      "source": [
        "# Residual Analysis of the model having lasso Regression as the estimator\r\n",
        "lasso_pred = gs_lasso.predict(X_test)\r\n",
        "lasso_res = y_test - lasso_pred\r\n",
        "sns.distplot(lasso_res,hist=True, kde=True)"
      ],
      "execution_count": 19,
      "outputs": [
        {
          "output_type": "stream",
          "text": [
            "/usr/local/lib/python3.7/dist-packages/seaborn/distributions.py:2557: FutureWarning: `distplot` is a deprecated function and will be removed in a future version. Please adapt your code to use either `displot` (a figure-level function with similar flexibility) or `histplot` (an axes-level function for histograms).\n",
            "  warnings.warn(msg, FutureWarning)\n"
          ],
          "name": "stderr"
        },
        {
          "output_type": "execute_result",
          "data": {
            "text/plain": [
              "<matplotlib.axes._subplots.AxesSubplot at 0x7f900e915d50>"
            ]
          },
          "metadata": {
            "tags": []
          },
          "execution_count": 19
        },
        {
          "output_type": "display_data",
          "data": {
            "image/png": "[encoded data removed]",
            "text/plain": [
              "<Figure size 432x288 with 1 Axes>"
            ]
          },
          "metadata": {
            "tags": [],
            "needs_background": "light"
          }
        }
      ]
    },
    {
      "cell_type": "code",
      "metadata": {
        "id": "_nOAEOGD81kU"
      },
      "source": [
        ""
      ],
      "execution_count": null,
      "outputs": []
    },
    {
      "cell_type": "code",
      "metadata": {
        "id": "sup9dLmrFUwb"
      },
      "source": [
        ""
      ],
      "execution_count": 16,
      "outputs": []
    },
    {
      "cell_type": "code",
      "metadata": {
        "id": "Wq2DJ8vFFVJz"
      },
      "source": [
        ""
      ],
      "execution_count": null,
      "outputs": []
    }
  ]
}